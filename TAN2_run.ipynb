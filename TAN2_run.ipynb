{
  "nbformat": 4,
  "nbformat_minor": 0,
  "metadata": {
    "colab": {
      "provenance": []
    },
    "kernelspec": {
      "name": "python3",
      "display_name": "Python 3"
    },
    "language_info": {
      "name": "python"
    }
  },
  "cells": [
    {
      "cell_type": "code",
      "execution_count": null,
      "metadata": {
        "id": "AGi_RvQg-Sxw"
      },
      "outputs": [],
      "source": [
        "#@title Install BEN2\n",
        "%cd /content/\n",
        "!git clone https://github.com/ngoctan91/TAN-Personal.git\n",
        "%cd /content/TAN-Personal\n",
        "!wget https://huggingface.co/ngoctan91/TAN2-Personal/resolve/main/BEN2_Base.pth\n",
        "!pip install gradio>=5.9.1\n",
        "!pip install click\n",
        "from IPython.display import clear_output\n",
        "clear_output()"
      ]
    },
    {
      "cell_type": "code",
      "source": [
        "#@title Run App\n",
        "%cd /content/TAN-Personal\n",
        "!python app.py --share --debug"
      ],
      "metadata": {
        "id": "wms2idvG-Uxo"
      },
      "execution_count": null,
      "outputs": []
    }
  ]
}